{
 "cells": [
  {
   "cell_type": "code",
   "execution_count": null,
   "id": "04bc40ea-6063-4ef2-a02a-92896c6b542c",
   "metadata": {},
   "outputs": [
    {
     "name": "stdout",
     "output_type": "stream",
     "text": [
      "Dash is running on http://127.0.0.1:8050/\n",
      "\n",
      "Dash is running on http://127.0.0.1:8050/\n",
      "\n",
      "Dash is running on http://127.0.0.1:8050/\n",
      "\n",
      " * Serving Flask app \"__main__\" (lazy loading)\n",
      " * Environment: production\n",
      "\u001b[31m   WARNING: This is a development server. Do not use it in a production deployment.\u001b[0m\n",
      "\u001b[2m   Use a production WSGI server instead.\u001b[0m\n",
      " * Debug mode: on\n"
     ]
    }
   ],
   "source": [
    "import dash\n",
    "import pandas as pd\n",
    "from dash import dcc, html\n",
    "import plotly.express as px\n",
    "from plotly.graph_objects import Layout\n",
    "from dash.dependencies import Input, Output\n",
    "\n",
    "\n",
    "url = 'https://raw.githubusercontent.com/edabakir/Population_Dash/main/world_countires_population.csv'\n",
    "df = pd.read_csv(url)\n",
    "df = df[df[\"Year\"] <= 2022]\n",
    "\n",
    "app = dash.Dash(__name__)\n",
    "server = app.server\n",
    "\n",
    "app.title = \" World Population Dashboard \"\n",
    "\n",
    "app.layout = html.Div(\n",
    "    className =\"container\",\n",
    "    children=[\n",
    "        dcc.Dropdown(\n",
    "            id=\"years\",\n",
    "            options=[{\"label\": i, \"value\": i } for i in df[\"Year\"].unique()],\n",
    "            value=df[\"Year\"].max(),\n",
    "            persistence=True\n",
    "        ),\n",
    "        dcc.Graph(id=\"map_graph\")\n",
    "    ]\n",
    ")\n",
    "\n",
    "@app.callback(Output(\"map_graph\", \"figure\"), Input(\"years\", \"value\"))\n",
    "def map_graph_update(year):\n",
    "    fig=px.choropleth(\n",
    "        data_frame=df[df[\"Year\"] == year],\n",
    "        locations=\"CountryCode\",\n",
    "        color=\"PopTotal\",\n",
    "        hover_data={\"Country\": True}\n",
    "    )\n",
    "    #fig.update_layout(margin=dict(t=30, b=30, l=0, r=0))\n",
    "    return fig\n",
    "\n",
    "if __name__ == \"__main__\":\n",
    "    app.run_server(debug=True, use_reloader=False)"
   ]
  },
  {
   "cell_type": "code",
   "execution_count": null,
   "id": "d47c754c-2d40-40aa-a1ee-07e5ea9ed306",
   "metadata": {},
   "outputs": [],
   "source": []
  }
 ],
 "metadata": {
  "kernelspec": {
   "display_name": "Python 3 (ipykernel)",
   "language": "python",
   "name": "python3"
  },
  "language_info": {
   "codemirror_mode": {
    "name": "ipython",
    "version": 3
   },
   "file_extension": ".py",
   "mimetype": "text/x-python",
   "name": "python",
   "nbconvert_exporter": "python",
   "pygments_lexer": "ipython3",
   "version": "3.9.12"
  }
 },
 "nbformat": 4,
 "nbformat_minor": 5
}
